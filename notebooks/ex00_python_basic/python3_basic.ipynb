{
 "cells": [
  {
   "cell_type": "markdown",
   "metadata": {},
   "source": [
    "# python3 기초"
   ]
  },
  {
   "cell_type": "markdown",
   "metadata": {},
   "source": [
    "* 바벨피쉬/바벨파이 : 파트 1 - 파이썬&자연어처리 기초 실습\n",
    "* 김무성"
   ]
  },
  {
   "cell_type": "markdown",
   "metadata": {},
   "source": [
    "## 다음 두 개의 사이트를 참고로 해서 이 노트북에서 각자 연습해봅시다.\n",
    "* [1] Learn X in Y minutes Where X=python3 -https://learnxinyminutes.com/docs/python3/\n",
    "* [2] 점프 투 파이썬 - https://wikidocs.net/book/1"
   ]
  }
 ],
 "metadata": {
  "kernelspec": {
   "display_name": "Python 3",
   "language": "python",
   "name": "python3"
  },
  "language_info": {
   "codemirror_mode": {
    "name": "ipython",
    "version": 3
   },
   "file_extension": ".py",
   "mimetype": "text/x-python",
   "name": "python",
   "nbconvert_exporter": "python",
   "pygments_lexer": "ipython3",
   "version": "3.4.3"
  }
 },
 "nbformat": 4,
 "nbformat_minor": 0
}
